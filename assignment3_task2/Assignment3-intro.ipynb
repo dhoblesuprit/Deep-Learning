{
 "cells": [
  {
   "cell_type": "markdown",
   "metadata": {},
   "source": [
    "# Assignment 3\n",
    "\n",
    "In this assignment, you will experiment with recurrent neural network(RNN).\n",
    "\n",
    "### Task 1: XOR net (40%)\n",
    "\n",
    "Create a RNN network which can correctly compute the XOR operation.\n",
    "\n",
    "\n",
    "### Task 2: RNN Application - online virtual lab (60%)\n",
    "\n",
    "This task will be shared with students shortly prior to the lab session. The lab session will be virtual, in that a live zoom conference will be used. The instructors will be available for the duration of the lab, of up to 150 minutes.  Students will have to be ready for the lab session, to work either in the Google cloud on or their personal machines with Jupyter notebook and Tensorflow, while participating in the zoom session. Three lab sessions times will be oferred, and students will be able to choose any one of them.\n",
    "After completing this task, the students will have to submit the results, together with the other task in the assignment 3 on the due date of the assignment 3."
   ]
  },
  {
   "cell_type": "markdown",
   "metadata": {
    "collapsed": true
   },
   "source": [
    "### Submission requirements\n",
    "\n",
    "1. Save code and results in .py and .ipynb.\n",
    "2. Please do not upload DATA files!\n",
    "3. No need to upload model file for this assignment."
   ]
  },
  {
   "cell_type": "code",
   "execution_count": null,
   "metadata": {
    "collapsed": true
   },
   "outputs": [],
   "source": []
  }
 ],
 "metadata": {
  "kernelspec": {
   "display_name": "Python [dlWorksA3]",
   "language": "python",
   "name": "Python [dlWorksA3]"
  },
  "language_info": {
   "codemirror_mode": {
    "name": "ipython",
    "version": 3
   },
   "file_extension": ".py",
   "mimetype": "text/x-python",
   "name": "python",
   "nbconvert_exporter": "python",
   "pygments_lexer": "ipython3",
   "version": "3.5.3"
  }
 },
 "nbformat": 4,
 "nbformat_minor": 2
}
