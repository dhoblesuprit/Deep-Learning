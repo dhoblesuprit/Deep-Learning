{
 "cells": [
  {
   "cell_type": "code",
   "execution_count": 3,
   "metadata": {},
   "outputs": [],
   "source": [
    "import numpy as np"
   ]
  },
  {
   "cell_type": "code",
   "execution_count": 24,
   "metadata": {},
   "outputs": [],
   "source": [
    "a = np.array([\n",
    "    [1,2,3,4,5],\n",
    "    [2,3,3,4,5],\n",
    "    [3,4,3,4,5],\n",
    "    [5,6,3,4,5]\n",
    "])"
   ]
  },
  {
   "cell_type": "code",
   "execution_count": 25,
   "metadata": {},
   "outputs": [
    {
     "name": "stdout",
     "output_type": "stream",
     "text": [
      "[[   2.71828183    7.3890561    20.08553692   54.59815003  148.4131591 ]\n",
      " [   7.3890561    20.08553692   20.08553692   54.59815003  148.4131591 ]\n",
      " [  20.08553692   54.59815003   20.08553692   54.59815003  148.4131591 ]\n",
      " [ 148.4131591   403.42879349   20.08553692   54.59815003  148.4131591 ]]\n"
     ]
    }
   ],
   "source": [
    "b = np.exp(a)\n",
    "print(b)"
   ]
  },
  {
   "cell_type": "code",
   "execution_count": 29,
   "metadata": {},
   "outputs": [
    {
     "name": "stdout",
     "output_type": "stream",
     "text": [
      "[[ 1.  1.  1.  1.  1.]\n",
      " [ 1.  1.  1.  1.  1.]\n",
      " [ 1.  1.  1.  1.  1.]\n",
      " [ 1.  1.  1.  1.  1.]]\n",
      "[[ 233.20418399  233.20418399  233.20418399  233.20418399  233.20418399]\n",
      " [ 250.57143908  250.57143908  250.57143908  250.57143908  250.57143908]\n",
      " [ 297.78053302  297.78053302  297.78053302  297.78053302  297.78053302]\n",
      " [ 774.93879865  774.93879865  774.93879865  774.93879865  774.93879865]]\n"
     ]
    }
   ],
   "source": [
    "c = np.sum(b,axis=1)\n",
    "\n",
    "d = np.ones(b.shape)\n",
    "print(d)\n",
    "d = (d.T*c).T\n",
    "print(d)"
   ]
  },
  {
   "cell_type": "code",
   "execution_count": 5,
   "metadata": {},
   "outputs": [],
   "source": [
    "c=(1.37**2)**-1"
   ]
  },
  {
   "cell_type": "code",
   "execution_count": 6,
   "metadata": {},
   "outputs": [
    {
     "data": {
      "text/plain": [
       "0.1960037514899261"
      ]
     },
     "execution_count": 6,
     "metadata": {},
     "output_type": "execute_result"
    }
   ],
   "source": [
    "c*np.exp(-1)"
   ]
  },
  {
   "cell_type": "code",
   "execution_count": null,
   "metadata": {},
   "outputs": [],
   "source": []
  }
 ],
 "metadata": {
  "kernelspec": {
   "display_name": "Python 3",
   "language": "python",
   "name": "python3"
  },
  "language_info": {
   "codemirror_mode": {
    "name": "ipython",
    "version": 3
   },
   "file_extension": ".py",
   "mimetype": "text/x-python",
   "name": "python",
   "nbconvert_exporter": "python",
   "pygments_lexer": "ipython3",
   "version": "3.6.1"
  }
 },
 "nbformat": 4,
 "nbformat_minor": 2
}
